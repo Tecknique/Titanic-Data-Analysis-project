{
 "cells": [
  {
   "cell_type": "code",
   "execution_count": 79,
   "metadata": {
    "collapsed": true
   },
   "outputs": [],
   "source": [
    "#titanic data project\n",
    "\n",
    "'''James Robinson\n",
    "Titanic Data Summary\n",
    "\n",
    "Dataset:\n",
    "I chose to analyze the Titanic dataset.\n",
    "\n",
    "Questions posed:\n",
    "1)\tAre there any columns that are to be ignored due to lack of information?\n",
    "2)\tIs there enough of a gap to justify Pclass and Fare difference\n",
    "3)\tWhat variables contribute most to survival rates?\n",
    "4)\tAre there any interesting conclusions or patterns to be derived from unexpected data?\n",
    "\n",
    "Process:\n",
    "1)\tWhen wrangling my data, I looked up all the values where NaN was present, and decided whether to use the data when cross referencing with other statistics. I also looked at the values of 0, where there should be data present. I also checked for duplicates in names, and whether some columns should be ignored if there were no statistical conclusions that could be drawn from it.\n",
    "2)\tI grouped survived data with class, fare and sex, and made graphs and data tables for reference\n",
    "3)\tI looked at possible outliers, and determined whether there was a specific pattern to them (such as why some people paid so much money for tickets, and why people paid none.) \n",
    "\n",
    "\n",
    "Documentation of Data wrangling\n",
    "\n",
    "1.)\tI took out the column for ticket number, because the data is just a list of random numbers with no values\n",
    "2.)\tI took out the column for cabin because over ¾ of the entries weren’t present\n",
    "titanic_df = titanic_df.drop(['Ticket', 'Cabin'],axis = 1)\n",
    "\n",
    "3.)\tI checked the name column for no repeats\n",
    "if titanic_df.duplicated('Name').any() == True:\n",
    "    print titanic_df('Name')\n",
    "else:\n",
    "print \"no repeats\"\n",
    "\n",
    "4.)\tI took out the rows of data for Age where there wasn’t Age present\n",
    "drop_nan_age_values = titanic_df[~titanic_df['Age'].isnull()]\n",
    "\n",
    "5.)\tI removed values of Fare that were 0, because it seemed like the tickets were won by something similar to a lottery system.\n",
    "drop_bad_values = drop_nan_age_values.loc[~(drop_nan_age_values['Fare'] == 0)]\n",
    "\n",
    "\n",
    "6.)\tI removed the top 3 outliers for the highest fare, so the data wouldn’t mess up the statistics (probably unnecessarily)\n",
    "remove_fare_outliers = drop_fare_zero.loc[~(drop_fare_zero['Fare'] > 500)]\n",
    "\n",
    "\n",
    "\n",
    "Conclusion points:\n",
    "\n",
    "1.)\tAge seems to have not that much to do with survival rate, but there is a little bit of correlation. Children under 18 are a little more likely to survive, ~50% to all passenger’s survival rate ~38%;\n",
    "\n",
    "For children to survival, there is a Person’s R value of: ~-23% which means there is a little bit of correlation.\n",
    "For all entries where age isn’t NaN, there is a Person’s R value of -.07, which means overall, Age has little to do with survival rate.\n",
    "\n",
    "2.)\tThrough my Scatter chart, I found that there seemed to be a large difference of cost from 1st class and 2nd and 3rd class fare, but not much of a difference from just 2nd and 3rd. So I checked the Pearson’r R value to find out if there was correlation between Fare and PClass. The value was~-30, so I determined there seems to be enough correlation.\n",
    "\n",
    "3.)\tThere is a larger correlation to Pclass and survival then Age and survival.. With the Pearson’s r at ~-34%, which is even larger than the children survival rates(~30%)\n",
    "\n",
    "4.)\tThe last chart above shows how many people survived compared to sex. This seems like the highest correlation; with Person’s R being as much as ~54%\n",
    "\n",
    "5.)\tThere are 15 data points where the Fare = 0. I checked for patterns to see if I needed to omit them, and discovered that every person who paid 0$ for their fare were all male, and they all disembarked for the last stop. So it seems that they must have received last ticket spaces due to a lottery system or something of the like.\n",
    "\n",
    "\n",
    "'''"
   ]
  },
  {
   "cell_type": "code",
   "execution_count": 80,
   "metadata": {
    "collapsed": false
   },
   "outputs": [],
   "source": [
    "import pandas as pd\n",
    "import numpy as np\n",
    "import matplotlib.pyplot as plt\n",
    "import seaborn as sns\n",
    "%matplotlib inline\n",
    "titanic_df = pd.read_csv('titanic_data.csv')"
   ]
  },
  {
   "cell_type": "code",
   "execution_count": 81,
   "metadata": {
    "collapsed": false,
    "scrolled": true
   },
   "outputs": [
    {
     "name": "stdout",
     "output_type": "stream",
     "text": [
      "number of 'NaN's per column:\n"
     ]
    },
    {
     "data": {
      "text/plain": [
       "PassengerId      0\n",
       "Survived         0\n",
       "Pclass           0\n",
       "Name             0\n",
       "Sex              0\n",
       "Age            177\n",
       "SibSp            0\n",
       "Parch            0\n",
       "Ticket           0\n",
       "Fare             0\n",
       "Cabin          687\n",
       "Embarked         2\n",
       "dtype: int64"
      ]
     },
     "execution_count": 81,
     "metadata": {},
     "output_type": "execute_result"
    }
   ],
   "source": [
    "'''Checking to see how many NaN values are in each column. If there are many in specific ones, then figure out if the information\n",
    "can still be usefull'''\n",
    "\n",
    "get_nan_values = titanic_df.isnull().sum()\n",
    "print \"number of 'NaN's per column:\"\n",
    "get_nan_values\n",
    "\n",
    "'''resources: http://pandas.pydata.org/pandas-docs/stable/generated/pandas.isnull.html'''"
   ]
  },
  {
   "cell_type": "code",
   "execution_count": 82,
   "metadata": {
    "collapsed": false
   },
   "outputs": [],
   "source": [
    "'''There isnt any interesting points about the ticket number because it's just a bunch of random numbers with no values.\n",
    "there are 687 values missing from cabin which is over 3/4 of the passengers. I will take the liberty of removing them.'''\n",
    "\n",
    "\n",
    "titanic_df = titanic_df.drop(['Ticket', 'Cabin'],axis = 1)\n",
    "\n",
    "'''resources: https://s3.amazonaws.com/quandl-static-content/Documents/Quandl+-+Pandas,+SciPy,+NumPy+Cheat+Sheet.pdf'''"
   ]
  },
  {
   "cell_type": "code",
   "execution_count": 83,
   "metadata": {
    "collapsed": false
   },
   "outputs": [
    {
     "data": {
      "text/plain": [
       "'\\nBeing that there are 687 missing values in the cabin column of the 891 entries, I will not be referencing the cabin data in this\\nproject.\\n\\nThe Age column has 177 rows missing, so I will take those 177 rows out when grouping it with other statistics.'"
      ]
     },
     "execution_count": 83,
     "metadata": {},
     "output_type": "execute_result"
    }
   ],
   "source": [
    "'''\n",
    "Being that there are 687 missing values in the cabin column of the 891 entries, I will not be referencing the cabin data in this\n",
    "project.\n",
    "\n",
    "The Age column has 177 rows missing, so I will take those 177 rows out when grouping it with other statistics.'''"
   ]
  },
  {
   "cell_type": "code",
   "execution_count": 84,
   "metadata": {
    "collapsed": false
   },
   "outputs": [
    {
     "name": "stdout",
     "output_type": "stream",
     "text": [
      "no repeats\n"
     ]
    }
   ],
   "source": [
    "'''checking the name columns for duplicates'''\n",
    "if titanic_df.duplicated('Name').any() == True:\n",
    "    print titanic_df('Name')\n",
    "else:\n",
    "    print \"no repeats\"\n",
    "\n",
    "    \n",
    "'''resources: https://s3.amazonaws.com/quandl-static-content/Documents/Quandl+-+Pandas,+SciPy,+NumPy+Cheat+Sheet.pdf'''"
   ]
  },
  {
   "cell_type": "code",
   "execution_count": 85,
   "metadata": {
    "collapsed": false
   },
   "outputs": [
    {
     "data": {
      "image/png": "[encoded data removed]",
      "text/plain": [
       "<matplotlib.figure.Figure at 0xa4c4470>"
      ]
     },
     "metadata": {},
     "output_type": "display_data"
    },
    {
     "data": {
      "text/plain": [
       "count    714.000000\n",
       "mean      29.699118\n",
       "std       14.526497\n",
       "min        0.420000\n",
       "25%       20.125000\n",
       "50%       28.000000\n",
       "75%       38.000000\n",
       "max       80.000000\n",
       "Name: Age, dtype: float64"
      ]
     },
     "execution_count": 85,
     "metadata": {},
     "output_type": "execute_result"
    }
   ],
   "source": [
    "'''Plotting the age of all the passengers in a histogram, with each bar being a span of 5 years'''\n",
    "\n",
    "\n",
    "def age(column_data):\n",
    "    plt.xlim(0,np.amax(column_data))\n",
    "    plt.hist(column_data, bins = range(0, len(column_data),5))\n",
    "    plt.xlabel('age')\n",
    "    plt.title('histogram of passenger age')\n",
    "    plt.grid()\n",
    "    return plt.show()\n",
    "\n",
    "\n",
    "np.amin(titanic_df['Age'])\n",
    "\n",
    "age(titanic_df['Age'])\n",
    "titanic_df['Age'].describe()\n",
    "\n",
    "'''resources: http://pandas.pydata.org/pandas-docs/stable/visualization.html'''"
   ]
  },
  {
   "cell_type": "code",
   "execution_count": 86,
   "metadata": {
    "collapsed": false
   },
   "outputs": [
    {
     "name": "stdout",
     "output_type": "stream",
     "text": [
      "15\n",
      "     PassengerId  Survived  Pclass                              Name   Sex  \\\n",
      "179          180         0       3               Leonard, Mr. Lionel  male   \n",
      "263          264         0       1             Harrison, Mr. William  male   \n",
      "271          272         1       3      Tornquist, Mr. William Henry  male   \n",
      "277          278         0       2       Parkes, Mr. Francis \"Frank\"  male   \n",
      "302          303         0       3   Johnson, Mr. William Cahoone Jr  male   \n",
      "413          414         0       2    Cunningham, Mr. Alfred Fleming  male   \n",
      "466          467         0       2             Campbell, Mr. William  male   \n",
      "481          482         0       2  Frost, Mr. Anthony Wood \"Archie\"  male   \n",
      "597          598         0       3               Johnson, Mr. Alfred  male   \n",
      "633          634         0       1     Parr, Mr. William Henry Marsh  male   \n",
      "674          675         0       2        Watson, Mr. Ennis Hastings  male   \n",
      "732          733         0       2              Knight, Mr. Robert J  male   \n",
      "806          807         0       1            Andrews, Mr. Thomas Jr  male   \n",
      "815          816         0       1                  Fry, Mr. Richard  male   \n",
      "822          823         0       1   Reuchlin, Jonkheer. John George  male   \n",
      "\n",
      "      Age  SibSp  Parch  Fare Embarked  \n",
      "179  36.0      0      0   0.0        S  \n",
      "263  40.0      0      0   0.0        S  \n",
      "271  25.0      0      0   0.0        S  \n",
      "277   NaN      0      0   0.0        S  \n",
      "302  19.0      0      0   0.0        S  \n",
      "413   NaN      0      0   0.0        S  \n",
      "466   NaN      0      0   0.0        S  \n",
      "481   NaN      0      0   0.0        S  \n",
      "597  49.0      0      0   0.0        S  \n",
      "633   NaN      0      0   0.0        S  \n",
      "674   NaN      0      0   0.0        S  \n",
      "732   NaN      0      0   0.0        S  \n",
      "806  39.0      0      0   0.0        S  \n",
      "815   NaN      0      0   0.0        S  \n",
      "822  38.0      0      0   0.0        S  \n"
     ]
    }
   ],
   "source": [
    "'''Checking to see outliers of the 'Fare' column. There seems to be 15 people that didnt pay anything for their ticket. \n",
    "\n",
    "The interesting thing to note is that all of the people who paid 0$ for their ticket are male, and have embarked from Southampton.\n",
    "There must have been prize drawings, a lottery system, bartering of tickets or something of the like for leftover tickets, being\n",
    "that Southampton was the last embarkment location\n",
    "\n",
    "Since the data for Pclass, 0$, and age(having 8 NaN values) fare is sporatic, when comparing the stats I will remove these 15 rows'''\n",
    "\n",
    "zero_fare = titanic_df.loc[titanic_df['Fare'] == 0]\n",
    "print len(zero_fare)\n",
    "print zero_fare\n",
    "\n",
    "\n",
    "'''When comparint age to another element, I will take out the NaN age columns'''\n",
    "\n",
    "drop_nan_age_values = titanic_df[~titanic_df['Age'].isnull()] \n",
    "\n",
    "'''Here I'm dropping all the values where Fare == 0, so I can compare it with Age and PClass'''\n",
    "\n",
    "drop_bad_values = drop_nan_age_values.loc[~(drop_nan_age_values['Fare'] == 0)]"
   ]
  },
  {
   "cell_type": "code",
   "execution_count": 87,
   "metadata": {
    "collapsed": false
   },
   "outputs": [
    {
     "data": {
      "text/plain": [
       "891"
      ]
     },
     "execution_count": 87,
     "metadata": {},
     "output_type": "execute_result"
    },
    {
     "data": {
      "image/png": "[encoded data removed]",
      "text/plain": [
       "<matplotlib.figure.Figure at 0xb469860>"
      ]
     },
     "metadata": {},
     "output_type": "display_data"
    }
   ],
   "source": [
    "'''Scatter plot of x axis Age, and y axis Fare'''\n",
    "\n",
    "\n",
    "plt.scatter(drop_bad_values['Age'],drop_bad_values['Fare'])\n",
    "plt.xlabel(\"Age\")\n",
    "plt.ylabel(\"Fare USD\")\n",
    "plt.title(\"Age to Fare scatterplot\")\n",
    "\n",
    "\n",
    "titanic_df['Fare'].count()\n",
    "\n"
   ]
  },
  {
   "cell_type": "code",
   "execution_count": 112,
   "metadata": {
    "collapsed": false,
    "scrolled": true
   },
   "outputs": [
    {
     "data": {
      "image/png": "[encoded data removed]",
      "text/plain": [
       "<matplotlib.figure.Figure at 0xb603240>"
      ]
     },
     "metadata": {},
     "output_type": "display_data"
    },
    {
     "data": {
      "text/plain": [
       "'matplotlib cm documentation: http://matplotlib.org/api/cm_api.html\\n    -will need to look indepth to understand fully how to use\\n    \\n    '"
      ]
     },
     "execution_count": 112,
     "metadata": {},
     "output_type": "execute_result"
    }
   ],
   "source": [
    "'''color coded for Pclasses\n",
    "\n",
    "Blue = first class\n",
    "Green = second class\n",
    "red = third class'''\n",
    "\n",
    "from matplotlib import cm\n",
    "\n",
    "\n",
    "fig = plt.figure(figsize=(6,6))\n",
    "age_fare_class = fig.add_subplot(111)\n",
    "age_fare_class.set_title('Age to Fare Color coded by Pclass')\n",
    "age_fare_class.set_xlabel('Age')\n",
    "age_fare_class.set_ylabel('Fare')\n",
    "age_fare_class.grid(True,linestyle = '-', color='.75')\n",
    "x = drop_bad_values['Age']\n",
    "y = drop_bad_values['Fare']\n",
    "z = drop_bad_values['Pclass']\n",
    "\n",
    "plt.scatter(x,y, s=20, c=z, cmap = cm.jet);\n",
    "\n",
    "plt.show()\n",
    "\n",
    "\n",
    "'''matplotlib cm documentation: http://matplotlib.org/api/cm_api.html\n",
    "    -will need to look indepth to understand fully how to use\n",
    "    \n",
    "    '''"
   ]
  },
  {
   "cell_type": "code",
   "execution_count": 89,
   "metadata": {
    "collapsed": true
   },
   "outputs": [],
   "source": [
    "'''since the graph makes it look like 2nd class and 3rd class fare cost aren't too far apart, I'm checking for correlation'''\n",
    "\n",
    "drop_first_class_entries = drop_nan_age_values.loc[~(drop_nan_age_values['Pclass'] == 1)]\n",
    "\n"
   ]
  },
  {
   "cell_type": "code",
   "execution_count": 90,
   "metadata": {
    "collapsed": true
   },
   "outputs": [],
   "source": [
    "'''Finding pearson's R of data'''\n",
    "def correlation(x,y):\n",
    "    std_x = (x - x.mean()) / x.std(ddof=0)\n",
    "    std_y = (y - y.mean()) / y.std(ddof=0)\n",
    "    pearson = (std_x * std_y).mean()\n",
    "    return pearson\n",
    "\n",
    "def does_it_correlate(data):\n",
    "    \n",
    "    if abs(data) <=.20:\n",
    "        print \"There isn't a likely correlation\"\n",
    "        print \"\"\n",
    "    elif abs(data) >=.21 and data <=.50:\n",
    "        print \"There probably is correlation\"\n",
    "        print \"\"\n",
    "    else:\n",
    "        print \"There is a high probability of correlation\"\n",
    "        print \"\"\n",
    "\n",
    "'''abs = absolute value'''"
   ]
  },
  {
   "cell_type": "code",
   "execution_count": 91,
   "metadata": {
    "collapsed": false
   },
   "outputs": [
    {
     "name": "stdout",
     "output_type": "stream",
     "text": [
      "Pearson's R value of 2nd and 3rd class to fare:\n",
      "-0.327835645997\n",
      "There probably is correlation\n",
      "\n"
     ]
    }
   ],
   "source": [
    "'''seems there is enough of a correlation so I wont look into it further'''\n",
    "\n",
    "print \"Pearson's R value of 2nd and 3rd class to fare:\"\n",
    "print correlation(drop_first_class_entries['Pclass'], drop_first_class_entries['Fare'])\n",
    "does_it_correlate(correlation(drop_first_class_entries['Pclass'], drop_first_class_entries['Fare']))"
   ]
  },
  {
   "cell_type": "code",
   "execution_count": 92,
   "metadata": {
    "collapsed": false
   },
   "outputs": [
    {
     "data": {
      "text/html": [
       "<div>\n",
       "<table border=\"1\" class=\"dataframe\">\n",
       "  <thead>\n",
       "    <tr style=\"text-align: right;\">\n",
       "      <th></th>\n",
       "      <th>PassengerId</th>\n",
       "      <th>Survived</th>\n",
       "      <th>Pclass</th>\n",
       "      <th>Name</th>\n",
       "      <th>Sex</th>\n",
       "      <th>Age</th>\n",
       "      <th>SibSp</th>\n",
       "      <th>Parch</th>\n",
       "      <th>Fare</th>\n",
       "      <th>Embarked</th>\n",
       "    </tr>\n",
       "  </thead>\n",
       "  <tbody>\n",
       "    <tr>\n",
       "      <th>258</th>\n",
       "      <td>259</td>\n",
       "      <td>1</td>\n",
       "      <td>1</td>\n",
       "      <td>Ward, Miss. Anna</td>\n",
       "      <td>female</td>\n",
       "      <td>35.0</td>\n",
       "      <td>0</td>\n",
       "      <td>0</td>\n",
       "      <td>512.3292</td>\n",
       "      <td>C</td>\n",
       "    </tr>\n",
       "    <tr>\n",
       "      <th>679</th>\n",
       "      <td>680</td>\n",
       "      <td>1</td>\n",
       "      <td>1</td>\n",
       "      <td>Cardeza, Mr. Thomas Drake Martinez</td>\n",
       "      <td>male</td>\n",
       "      <td>36.0</td>\n",
       "      <td>0</td>\n",
       "      <td>1</td>\n",
       "      <td>512.3292</td>\n",
       "      <td>C</td>\n",
       "    </tr>\n",
       "    <tr>\n",
       "      <th>737</th>\n",
       "      <td>738</td>\n",
       "      <td>1</td>\n",
       "      <td>1</td>\n",
       "      <td>Lesurer, Mr. Gustave J</td>\n",
       "      <td>male</td>\n",
       "      <td>35.0</td>\n",
       "      <td>0</td>\n",
       "      <td>0</td>\n",
       "      <td>512.3292</td>\n",
       "      <td>C</td>\n",
       "    </tr>\n",
       "  </tbody>\n",
       "</table>\n",
       "</div>"
      ],
      "text/plain": [
       "     PassengerId  Survived  Pclass                                Name  \\\n",
       "258          259         1       1                    Ward, Miss. Anna   \n",
       "679          680         1       1  Cardeza, Mr. Thomas Drake Martinez   \n",
       "737          738         1       1              Lesurer, Mr. Gustave J   \n",
       "\n",
       "        Sex   Age  SibSp  Parch      Fare Embarked  \n",
       "258  female  35.0      0      0  512.3292        C  \n",
       "679    male  36.0      0      1  512.3292        C  \n",
       "737    male  35.0      0      0  512.3292        C  "
      ]
     },
     "execution_count": 92,
     "metadata": {},
     "output_type": "execute_result"
    }
   ],
   "source": [
    "'''I originally thought that the high price ticket might be a mistake, but finding them all in first class and all them had survived \n",
    "made me think they could have been VIP'''\n",
    "\n",
    "titanic_df.loc[titanic_df['Fare'] >= 450]"
   ]
  },
  {
   "cell_type": "code",
   "execution_count": 93,
   "metadata": {
    "collapsed": false
   },
   "outputs": [
    {
     "data": {
      "text/plain": [
       "count    873.000000\n",
       "mean      31.107631\n",
       "std       41.331513\n",
       "min        4.012500\n",
       "25%        7.925000\n",
       "50%       14.500000\n",
       "75%       31.275000\n",
       "max      263.000000\n",
       "Name: Fare, dtype: float64"
      ]
     },
     "execution_count": 93,
     "metadata": {},
     "output_type": "execute_result"
    }
   ],
   "source": [
    "'''Because there are three people that paid a high ticket that screws up the standard deviation,\n",
    "I'm going to remove the those tickets'''\n",
    "drop_fare_zero = titanic_df.loc[~(titanic_df['Fare'] == 0)]\n",
    "\n",
    "remove_fare_outliers = drop_fare_zero.loc[~(drop_fare_zero['Fare'] > 500)]\n",
    "len(remove_fare_outliers)\n",
    "\n",
    "remove_fare_outliers['Fare'].describe()"
   ]
  },
  {
   "cell_type": "code",
   "execution_count": 94,
   "metadata": {
    "collapsed": false
   },
   "outputs": [
    {
     "name": "stdout",
     "output_type": "stream",
     "text": [
      "Pearson's R value:\n",
      "0.256171957345\n",
      "There probably is correlation\n",
      "\n"
     ]
    }
   ],
   "source": [
    "'''Do fare and survival correlate?'''\n",
    "\n",
    "print \"Pearson's R value:\"\n",
    "print correlation(remove_fare_outliers['Fare'], remove_fare_outliers['Survived'])\n",
    "\n",
    "does_it_correlate(correlation(remove_fare_outliers['Fare'], remove_fare_outliers['Survived']))"
   ]
  },
  {
   "cell_type": "code",
   "execution_count": 95,
   "metadata": {
    "collapsed": false
   },
   "outputs": [
    {
     "name": "stdout",
     "output_type": "stream",
     "text": [
      "The % of people that survived in correlation to age of passengers: \n",
      "0.408769448373\n",
      "\n",
      "Pearson's R value:\n",
      "-0.0737253035565\n",
      "There isn't a likely correlation\n",
      "\n"
     ]
    }
   ],
   "source": [
    "'''After taking out the Age NaN categories, I wanted to find out if the Age of passengers had much to do with the\n",
    "survival. My findings didn't have a strong correlation, so I didn't persue further possibilities'''\n",
    "\n",
    "sum_of_survived_by_age = float(drop_bad_values['Survived'].sum())\n",
    "sum_of_age_data = float(len(drop_bad_values['Age']))\n",
    "\n",
    "def find_percent_of_survival(data1, data2):\n",
    "    return data1 / data2\n",
    "\n",
    "\n",
    "print \"The % of people that survived in correlation to age of passengers: \"\n",
    "print find_percent_of_survival(sum_of_survived_by_age, sum_of_age_data)\n",
    "print \"\"\n",
    "#correlation between Age and survived\n",
    "print \"Pearson's R value:\"\n",
    "print correlation(drop_bad_values['Age'], drop_bad_values['Survived'])\n",
    "\n",
    "does_it_correlate(correlation(drop_bad_values['Age'], drop_bad_values['Survived']))"
   ]
  },
  {
   "cell_type": "code",
   "execution_count": 96,
   "metadata": {
    "collapsed": false
   },
   "outputs": [
    {
     "name": "stdout",
     "output_type": "stream",
     "text": [
      "Pearsons's R value for Age to survival\n",
      "-0.239028350304\n",
      "There probably is correlation\n",
      "\n",
      "\n",
      "percent of passengers under 18 to survived\n",
      "0.503597122302\n",
      "\n",
      "percent of all passengers that survived\n",
      "0.383838383838\n"
     ]
    }
   ],
   "source": [
    "\n",
    "\n",
    "check_child_survival_correlation = drop_bad_values.loc[~(drop_bad_values['Age'] > 18)]\n",
    "print \"Pearsons's R value for Age to survival\"\n",
    "print correlation(check_child_survival_correlation['Age'],check_child_survival_correlation['Survived'])\n",
    "does_it_correlate(correlation(check_child_survival_correlation['Age'],check_child_survival_correlation['Survived']))\n",
    "print \"\"\n",
    "\n",
    "sum_survived_child = float(check_child_survival_correlation['Survived'].sum())\n",
    "len_age_child = float(len(check_child_survival_correlation['Age']))\n",
    "\n",
    "sum_all_passengers_survived = float(titanic_df['Survived'].sum())\n",
    "len_all_passengers = float(len(titanic_df))\n",
    "\n",
    "print \"percent of passengers under 18 to survived\"\n",
    "print find_percent_of_survival(sum_survived_child,len_age_child)\n",
    "# drop_nan_age_values.loc[~(drop_nan_age_values['Fare'] == 0)]\n",
    "\n",
    "print \"\"\n",
    "print \"percent of all passengers that survived\"\n",
    "print find_percent_of_survival(sum_all_passengers_survived,len_all_passengers)\n"
   ]
  },
  {
   "cell_type": "code",
   "execution_count": 97,
   "metadata": {
    "collapsed": false
   },
   "outputs": [
    {
     "name": "stdout",
     "output_type": "stream",
     "text": [
      "Pearsons R value for class to survived:\n",
      "-0.338481035961\n",
      "There probably is correlation\n",
      "\n"
     ]
    },
    {
     "data": {
      "text/plain": [
       "'Graph #2 shows that there was a much higher probability for survival the higher class the individual was'"
      ]
     },
     "execution_count": 97,
     "metadata": {},
     "output_type": "execute_result"
    },
    {
     "data": {
      "image/png": "[encoded data removed]",
      "text/plain": [
       "<matplotlib.figure.Figure at 0xaebcbe0>"
      ]
     },
     "metadata": {},
     "output_type": "display_data"
    },
    {
     "data": {
      "image/png": "[encoded data removed]",
      "text/plain": [
       "<matplotlib.figure.Figure at 0xa3dee48>"
      ]
     },
     "metadata": {},
     "output_type": "display_data"
    }
   ],
   "source": [
    "'''To find correlation between the class of the individual and the survival rate of the individual, I created a function\n",
    "passenger class, which I will use to create graphs to compare with Pclass'''\n",
    "\n",
    "def passenger_class(column_data, xlabel = 'class', ylabel = 'Passenger count', title = 'Passenger by Class', kind = 'bar',\n",
    "                   stacked = False, color = [], subplot_type = 121):\n",
    "    fig_size = plt.figure(figsize=(8,4))\n",
    "    fig_size.add_subplot(subplot_type)\n",
    "    column_data.plot(kind)\n",
    "    plt.xlabel(xlabel)\n",
    "    plt.title(title)\n",
    "    plt.ylabel(ylabel)\n",
    "    return plt\n",
    "\n",
    "passenger_to_class = titanic_df.groupby('Pclass').Survived.count()\n",
    "class_to_survive_rate = titanic_df.groupby('Pclass').Survived.sum()/titanic_df.groupby('Pclass').Survived.count()\n",
    "\n",
    "#wondering why this doesn't appear side to side\n",
    "passenger_class(passenger_to_class)\n",
    "passenger_class(class_to_survive_rate, ylabel = 'Survival Rate', title = 'Survival Rate by Class', subplot_type = 122)\n",
    "\n",
    "print \"Pearsons R value for class to survived:\"\n",
    "print correlation(titanic_df['Survived'], titanic_df['Pclass'])\n",
    "does_it_correlate(correlation(titanic_df['Pclass'], titanic_df['Survived']))\n",
    "\n",
    "'''Graph #2 shows that there was a much higher probability for survival the higher class the individual was'''\n",
    "\n",
    "'''Subplot type: http://stackoverflow.com/questions/24337813/how-does-subplot-work-and-what-is-the-difference-between-subplot121-and-subplo'''"
   ]
  },
  {
   "cell_type": "code",
   "execution_count": 98,
   "metadata": {
    "collapsed": false
   },
   "outputs": [
    {
     "data": {
      "text/plain": [
       "<matplotlib.axes._subplots.AxesSubplot at 0xb614668>"
      ]
     },
     "execution_count": 98,
     "metadata": {},
     "output_type": "execute_result"
    },
    {
     "data": {
      "image/png": "[encoded data removed]",
      "text/plain": [
       "<matplotlib.figure.Figure at 0xb5496d8>"
      ]
     },
     "metadata": {},
     "output_type": "display_data"
    }
   ],
   "source": [
    "'''reguardless of class, I wanted to see if the survival rate for female and male had a difference. It seems that females survived\n",
    "at a much higher rate than males.'''\n",
    "\n",
    "sex_to_survived = pd.crosstab(titanic_df.Sex, titanic_df.Survived.astype(bool))\n",
    "sex_to_survived.plot(kind='bar', stacked=True, color=['red','blue'], grid=False)\n",
    "\n",
    "\n",
    "'''stacked bar chart: http://matplotlib.org/examples/pylab_examples/bar_stacked.html'''"
   ]
  },
  {
   "cell_type": "code",
   "execution_count": 110,
   "metadata": {
    "collapsed": false
   },
   "outputs": [
    {
     "name": "stdout",
     "output_type": "stream",
     "text": [
      "Pearsons R value for Sex to survived:\n",
      "0.543351380658\n",
      "There is a high probability of correlation\n",
      "\n"
     ]
    },
    {
     "data": {
      "text/plain": [
       "'resourse: http://www.secnetix.de/olli/Python/lambda_functions.hawk '"
      ]
     },
     "execution_count": 110,
     "metadata": {},
     "output_type": "execute_result"
    }
   ],
   "source": [
    "\n",
    "mymap = {'male':1,'female':2}\n",
    "sex_to_int = titanic_df.applymap(lambda s: mymap.get(s) if s in mymap else s)\n",
    "\n",
    "\n",
    "print \"Pearsons R value for Sex to survived:\"\n",
    "print correlation(sex_to_int['Survived'], sex_to_int['Sex'])\n",
    "does_it_correlate(correlation(sex_to_int['Survived'], sex_to_int['Sex']))\n",
    "\n",
    "\n",
    "'''resourse: http://www.secnetix.de/olli/Python/lambda_functions.hawk '''"
   ]
  }
 ],
 "metadata": {
  "kernelspec": {
   "display_name": "Python 2",
   "language": "python",
   "name": "python2"
  },
  "language_info": {
   "codemirror_mode": {
    "name": "ipython",
    "version": 2
   },
   "file_extension": ".py",
   "mimetype": "text/x-python",
   "name": "python",
   "nbconvert_exporter": "python",
   "pygments_lexer": "ipython2",
   "version": "2.7.11"
  }
 },
 "nbformat": 4,
 "nbformat_minor": 0
}
